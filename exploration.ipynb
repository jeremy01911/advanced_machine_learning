{
 "cells": [
  {
   "cell_type": "markdown",
   "id": "18fbf4e8-bcc9-45f7-b81f-5a9a5197a22a",
   "metadata": {},
   "source": [
    "# AML NLP project - Data Exploration"
   ]
  },
  {
   "cell_type": "code",
   "execution_count": 24,
   "id": "2df36a16-6cb2-4b73-b7e4-98eac33d262e",
   "metadata": {},
   "outputs": [
    {
     "name": "stderr",
     "output_type": "stream",
     "text": [
      "[nltk_data] Downloading package punkt_tab to\n",
      "[nltk_data]     C:\\Users\\SAM\\AppData\\Roaming\\nltk_data...\n",
      "[nltk_data]   Unzipping tokenizers\\punkt_tab.zip.\n"
     ]
    }
   ],
   "source": [
    "import pandas as pd\n",
    "import seaborn as sns\n",
    "import numpy as np\n",
    "import nltk\n",
    "nltk.download('punkt_tab')\n",
    "from nltk import tokenize"
   ]
  },
  {
   "cell_type": "code",
   "execution_count": 2,
   "id": "1fddc888-e7f5-42db-bb8f-066810d0d041",
   "metadata": {},
   "outputs": [],
   "source": [
    "text_data = pd.read_csv(\"../data/train_v2_drcat_02.csv\")"
   ]
  },
  {
   "cell_type": "code",
   "execution_count": 3,
   "id": "16f139e0-4205-49e6-88b5-626e862b2e00",
   "metadata": {},
   "outputs": [
    {
     "data": {
      "text/html": [
       "<div>\n",
       "<style scoped>\n",
       "    .dataframe tbody tr th:only-of-type {\n",
       "        vertical-align: middle;\n",
       "    }\n",
       "\n",
       "    .dataframe tbody tr th {\n",
       "        vertical-align: top;\n",
       "    }\n",
       "\n",
       "    .dataframe thead th {\n",
       "        text-align: right;\n",
       "    }\n",
       "</style>\n",
       "<table border=\"1\" class=\"dataframe\">\n",
       "  <thead>\n",
       "    <tr style=\"text-align: right;\">\n",
       "      <th></th>\n",
       "      <th>text</th>\n",
       "      <th>label</th>\n",
       "      <th>prompt_name</th>\n",
       "      <th>source</th>\n",
       "      <th>RDizzl3_seven</th>\n",
       "    </tr>\n",
       "  </thead>\n",
       "  <tbody>\n",
       "    <tr>\n",
       "      <th>0</th>\n",
       "      <td>Phones\\n\\nModern humans today are always on th...</td>\n",
       "      <td>0</td>\n",
       "      <td>Phones and driving</td>\n",
       "      <td>persuade_corpus</td>\n",
       "      <td>False</td>\n",
       "    </tr>\n",
       "    <tr>\n",
       "      <th>1</th>\n",
       "      <td>This essay will explain if drivers should or s...</td>\n",
       "      <td>0</td>\n",
       "      <td>Phones and driving</td>\n",
       "      <td>persuade_corpus</td>\n",
       "      <td>False</td>\n",
       "    </tr>\n",
       "    <tr>\n",
       "      <th>2</th>\n",
       "      <td>Driving while the use of cellular devices\\n\\nT...</td>\n",
       "      <td>0</td>\n",
       "      <td>Phones and driving</td>\n",
       "      <td>persuade_corpus</td>\n",
       "      <td>False</td>\n",
       "    </tr>\n",
       "    <tr>\n",
       "      <th>3</th>\n",
       "      <td>Phones &amp; Driving\\n\\nDrivers should not be able...</td>\n",
       "      <td>0</td>\n",
       "      <td>Phones and driving</td>\n",
       "      <td>persuade_corpus</td>\n",
       "      <td>False</td>\n",
       "    </tr>\n",
       "    <tr>\n",
       "      <th>4</th>\n",
       "      <td>Cell Phone Operation While Driving\\n\\nThe abil...</td>\n",
       "      <td>0</td>\n",
       "      <td>Phones and driving</td>\n",
       "      <td>persuade_corpus</td>\n",
       "      <td>False</td>\n",
       "    </tr>\n",
       "  </tbody>\n",
       "</table>\n",
       "</div>"
      ],
      "text/plain": [
       "                                                text  label  \\\n",
       "0  Phones\\n\\nModern humans today are always on th...      0   \n",
       "1  This essay will explain if drivers should or s...      0   \n",
       "2  Driving while the use of cellular devices\\n\\nT...      0   \n",
       "3  Phones & Driving\\n\\nDrivers should not be able...      0   \n",
       "4  Cell Phone Operation While Driving\\n\\nThe abil...      0   \n",
       "\n",
       "          prompt_name           source  RDizzl3_seven  \n",
       "0  Phones and driving  persuade_corpus          False  \n",
       "1  Phones and driving  persuade_corpus          False  \n",
       "2  Phones and driving  persuade_corpus          False  \n",
       "3  Phones and driving  persuade_corpus          False  \n",
       "4  Phones and driving  persuade_corpus          False  "
      ]
     },
     "execution_count": 3,
     "metadata": {},
     "output_type": "execute_result"
    }
   ],
   "source": [
    "text_data.head()"
   ]
  },
  {
   "cell_type": "code",
   "execution_count": 4,
   "id": "dd39fbf1-c14c-4e66-a43a-3defe1905fbf",
   "metadata": {},
   "outputs": [
    {
     "data": {
      "text/plain": [
       "text             44868\n",
       "label                2\n",
       "prompt_name         15\n",
       "source              17\n",
       "RDizzl3_seven        2\n",
       "dtype: int64"
      ]
     },
     "execution_count": 4,
     "metadata": {},
     "output_type": "execute_result"
    }
   ],
   "source": [
    "text_data.nunique()"
   ]
  },
  {
   "cell_type": "markdown",
   "id": "8907e4ca-4604-4f4b-9c18-d2362651c6e0",
   "metadata": {},
   "source": [
    "Let's keep the original prompts"
   ]
  },
  {
   "cell_type": "code",
   "execution_count": 5,
   "id": "60564f61-d2c5-48c8-9686-e0c10e37b8a6",
   "metadata": {},
   "outputs": [],
   "source": [
    "seven_text_data = text_data[text_data['RDizzl3_seven'] == True]"
   ]
  },
  {
   "cell_type": "code",
   "execution_count": 6,
   "id": "9ff06141-d064-42c0-96d6-34db9a044998",
   "metadata": {},
   "outputs": [
    {
     "data": {
      "text/plain": [
       "text             20450\n",
       "label                2\n",
       "prompt_name          7\n",
       "source              17\n",
       "RDizzl3_seven        1\n",
       "dtype: int64"
      ]
     },
     "execution_count": 6,
     "metadata": {},
     "output_type": "execute_result"
    }
   ],
   "source": [
    "seven_text_data.nunique()"
   ]
  },
  {
   "cell_type": "markdown",
   "id": "fe5288c2-0ac5-4691-999c-29c9c7a00709",
   "metadata": {},
   "source": [
    "Here we can see that we have 7 different prompts left."
   ]
  },
  {
   "cell_type": "code",
   "execution_count": 7,
   "id": "6e859d87-45e2-4e14-947b-5b16fa61222e",
   "metadata": {},
   "outputs": [
    {
     "data": {
      "text/plain": [
       "array(['Car-free cities', '\"A Cowboy Who Rode the Waves\"',\n",
       "       'Exploring Venus', 'Facial action coding system',\n",
       "       'The Face on Mars', 'Driverless cars',\n",
       "       'Does the electoral college work?'], dtype=object)"
      ]
     },
     "execution_count": 7,
     "metadata": {},
     "output_type": "execute_result"
    }
   ],
   "source": [
    "seven_text_data['prompt_name'].unique()"
   ]
  },
  {
   "cell_type": "code",
   "execution_count": 8,
   "id": "de27c9e8-0d03-473a-b38a-2ccc59b22314",
   "metadata": {},
   "outputs": [
    {
     "name": "stderr",
     "output_type": "stream",
     "text": [
      "C:\\Users\\SAM\\AppData\\Local\\Temp\\ipykernel_16216\\2081946249.py:2: SettingWithCopyWarning: \n",
      "A value is trying to be set on a copy of a slice from a DataFrame.\n",
      "Try using .loc[row_indexer,col_indexer] = value instead\n",
      "\n",
      "See the caveats in the documentation: https://pandas.pydata.org/pandas-docs/stable/user_guide/indexing.html#returning-a-view-versus-a-copy\n",
      "  seven_text_data['prompt_name'] = seven_text_data['prompt_name'].str.replace('''\"''','')\n"
     ]
    },
    {
     "data": {
      "text/plain": [
       "array(['Car-free cities', 'A Cowboy Who Rode the Waves',\n",
       "       'Exploring Venus', 'Facial action coding system',\n",
       "       'The Face on Mars', 'Driverless cars',\n",
       "       'Does the electoral college work?'], dtype=object)"
      ]
     },
     "execution_count": 8,
     "metadata": {},
     "output_type": "execute_result"
    }
   ],
   "source": [
    "# Remove the \" in the prompt names\n",
    "seven_text_data['prompt_name'] = seven_text_data['prompt_name'].str.replace('''\"''','')\n",
    "seven_text_data['prompt_name'].unique()"
   ]
  },
  {
   "cell_type": "code",
   "execution_count": 9,
   "id": "0a28224d-eb1c-4450-8ab8-e9f698cf98f2",
   "metadata": {},
   "outputs": [
    {
     "name": "stderr",
     "output_type": "stream",
     "text": [
      "C:\\Users\\SAM\\AppData\\Local\\Temp\\ipykernel_16216\\634078843.py:1: SettingWithCopyWarning: \n",
      "A value is trying to be set on a copy of a slice from a DataFrame.\n",
      "Try using .loc[row_indexer,col_indexer] = value instead\n",
      "\n",
      "See the caveats in the documentation: https://pandas.pydata.org/pandas-docs/stable/user_guide/indexing.html#returning-a-view-versus-a-copy\n",
      "  seven_text_data['length'] = seven_text_data['text'].str.len()\n"
     ]
    },
    {
     "data": {
      "text/html": [
       "<div>\n",
       "<style scoped>\n",
       "    .dataframe tbody tr th:only-of-type {\n",
       "        vertical-align: middle;\n",
       "    }\n",
       "\n",
       "    .dataframe tbody tr th {\n",
       "        vertical-align: top;\n",
       "    }\n",
       "\n",
       "    .dataframe thead th {\n",
       "        text-align: right;\n",
       "    }\n",
       "</style>\n",
       "<table border=\"1\" class=\"dataframe\">\n",
       "  <thead>\n",
       "    <tr style=\"text-align: right;\">\n",
       "      <th></th>\n",
       "      <th>text</th>\n",
       "      <th>label</th>\n",
       "      <th>prompt_name</th>\n",
       "      <th>source</th>\n",
       "      <th>RDizzl3_seven</th>\n",
       "      <th>length</th>\n",
       "    </tr>\n",
       "  </thead>\n",
       "  <tbody>\n",
       "    <tr>\n",
       "      <th>1168</th>\n",
       "      <td>Cars have been around for awhile and they have...</td>\n",
       "      <td>0</td>\n",
       "      <td>Car-free cities</td>\n",
       "      <td>persuade_corpus</td>\n",
       "      <td>True</td>\n",
       "      <td>3114</td>\n",
       "    </tr>\n",
       "    <tr>\n",
       "      <th>1169</th>\n",
       "      <td>Have you ever thought what it would be like no...</td>\n",
       "      <td>0</td>\n",
       "      <td>Car-free cities</td>\n",
       "      <td>persuade_corpus</td>\n",
       "      <td>True</td>\n",
       "      <td>1132</td>\n",
       "    </tr>\n",
       "    <tr>\n",
       "      <th>1170</th>\n",
       "      <td>What you are about to read is going to give yo...</td>\n",
       "      <td>0</td>\n",
       "      <td>Car-free cities</td>\n",
       "      <td>persuade_corpus</td>\n",
       "      <td>True</td>\n",
       "      <td>3319</td>\n",
       "    </tr>\n",
       "    <tr>\n",
       "      <th>1171</th>\n",
       "      <td>cars have many flaws nd and in this day and ag...</td>\n",
       "      <td>0</td>\n",
       "      <td>Car-free cities</td>\n",
       "      <td>persuade_corpus</td>\n",
       "      <td>True</td>\n",
       "      <td>1030</td>\n",
       "    </tr>\n",
       "    <tr>\n",
       "      <th>1172</th>\n",
       "      <td>There are many advantages of limiting car usag...</td>\n",
       "      <td>0</td>\n",
       "      <td>Car-free cities</td>\n",
       "      <td>persuade_corpus</td>\n",
       "      <td>True</td>\n",
       "      <td>1860</td>\n",
       "    </tr>\n",
       "  </tbody>\n",
       "</table>\n",
       "</div>"
      ],
      "text/plain": [
       "                                                   text  label  \\\n",
       "1168  Cars have been around for awhile and they have...      0   \n",
       "1169  Have you ever thought what it would be like no...      0   \n",
       "1170  What you are about to read is going to give yo...      0   \n",
       "1171  cars have many flaws nd and in this day and ag...      0   \n",
       "1172  There are many advantages of limiting car usag...      0   \n",
       "\n",
       "          prompt_name           source  RDizzl3_seven  length  \n",
       "1168  Car-free cities  persuade_corpus           True    3114  \n",
       "1169  Car-free cities  persuade_corpus           True    1132  \n",
       "1170  Car-free cities  persuade_corpus           True    3319  \n",
       "1171  Car-free cities  persuade_corpus           True    1030  \n",
       "1172  Car-free cities  persuade_corpus           True    1860  "
      ]
     },
     "execution_count": 9,
     "metadata": {},
     "output_type": "execute_result"
    }
   ],
   "source": [
    "seven_text_data['length'] = seven_text_data['text'].str.len()\n",
    "seven_text_data.head()"
   ]
  },
  {
   "cell_type": "code",
   "execution_count": 10,
   "id": "e58403b6-4595-414d-a683-32addf5c38e9",
   "metadata": {},
   "outputs": [
    {
     "data": {
      "text/plain": [
       "<Axes: xlabel='length', ylabel='Count'>"
      ]
     },
     "execution_count": 10,
     "metadata": {},
     "output_type": "execute_result"
    },
    {
     "data": {
      "image/png": "[encoded data removed]",
      "text/plain": [
       "<Figure size 640x480 with 1 Axes>"
      ]
     },
     "metadata": {},
     "output_type": "display_data"
    }
   ],
   "source": [
    "sns.histplot(seven_text_data, x = 'length')"
   ]
  },
  {
   "cell_type": "code",
   "execution_count": 11,
   "id": "4a6ec01a-0019-4690-9c1f-49db17c67d7f",
   "metadata": {},
   "outputs": [
    {
     "name": "stderr",
     "output_type": "stream",
     "text": [
      "C:\\Users\\SAM\\AppData\\Local\\Temp\\ipykernel_16216\\1491141852.py:2: FutureWarning: Downcasting behavior in `replace` is deprecated and will be removed in a future version. To retain the old behavior, explicitly call `result.infer_objects(copy=False)`. To opt-in to the future behavior, set `pd.set_option('future.no_silent_downcasting', True)`\n",
      "  seven_text_data['prompt_id'] = seven_text_data.replace(mapping)['prompt_name']\n",
      "C:\\Users\\SAM\\AppData\\Local\\Temp\\ipykernel_16216\\1491141852.py:2: SettingWithCopyWarning: \n",
      "A value is trying to be set on a copy of a slice from a DataFrame.\n",
      "Try using .loc[row_indexer,col_indexer] = value instead\n",
      "\n",
      "See the caveats in the documentation: https://pandas.pydata.org/pandas-docs/stable/user_guide/indexing.html#returning-a-view-versus-a-copy\n",
      "  seven_text_data['prompt_id'] = seven_text_data.replace(mapping)['prompt_name']\n"
     ]
    }
   ],
   "source": [
    "mapping = dict(zip(seven_text_data['prompt_name'].unique(), range(7)))\n",
    "seven_text_data['prompt_id'] = seven_text_data.replace(mapping)['prompt_name']\n"
   ]
  },
  {
   "cell_type": "code",
   "execution_count": 12,
   "id": "ff3ad806-a4df-4038-85b7-1cba589e3619",
   "metadata": {},
   "outputs": [
    {
     "data": {
      "text/plain": [
       "<Axes: xlabel='prompt_id', ylabel='text'>"
      ]
     },
     "execution_count": 12,
     "metadata": {},
     "output_type": "execute_result"
    },
    {
     "data": {
      "image/png": "[encoded data removed]",
      "text/plain": [
       "<Figure size 640x480 with 1 Axes>"
      ]
     },
     "metadata": {},
     "output_type": "display_data"
    }
   ],
   "source": [
    "sns.barplot(seven_text_data.groupby('prompt_id').count(),x = 'prompt_id', y = 'text')"
   ]
  },
  {
   "cell_type": "code",
   "execution_count": 13,
   "id": "029df017-f108-4c60-b646-c066f7cf6d46",
   "metadata": {},
   "outputs": [
    {
     "name": "stderr",
     "output_type": "stream",
     "text": [
      "C:\\Users\\SAM\\AppData\\Local\\Temp\\ipykernel_16216\\1528820928.py:2: FutureWarning: Downcasting behavior in `replace` is deprecated and will be removed in a future version. To retain the old behavior, explicitly call `result.infer_objects(copy=False)`. To opt-in to the future behavior, set `pd.set_option('future.no_silent_downcasting', True)`\n",
      "  seven_text_data['source_id'] = seven_text_data.replace(mapping_source)['source']\n",
      "C:\\Users\\SAM\\AppData\\Local\\Temp\\ipykernel_16216\\1528820928.py:2: SettingWithCopyWarning: \n",
      "A value is trying to be set on a copy of a slice from a DataFrame.\n",
      "Try using .loc[row_indexer,col_indexer] = value instead\n",
      "\n",
      "See the caveats in the documentation: https://pandas.pydata.org/pandas-docs/stable/user_guide/indexing.html#returning-a-view-versus-a-copy\n",
      "  seven_text_data['source_id'] = seven_text_data.replace(mapping_source)['source']\n"
     ]
    },
    {
     "data": {
      "text/plain": [
       "<Axes: xlabel='source_id', ylabel='text'>"
      ]
     },
     "execution_count": 13,
     "metadata": {},
     "output_type": "execute_result"
    },
    {
     "data": {
      "image/png": "[encoded data removed]",
      "text/plain": [
       "<Figure size 640x480 with 1 Axes>"
      ]
     },
     "metadata": {},
     "output_type": "display_data"
    }
   ],
   "source": [
    "mapping_source = dict(zip(seven_text_data['source'].unique(), range(len(seven_text_data['source'].unique()))))\n",
    "seven_text_data['source_id'] = seven_text_data.replace(mapping_source)['source']\n",
    "sns.barplot(seven_text_data.groupby('source_id').count(),x = 'source_id', y = 'text')"
   ]
  },
  {
   "cell_type": "code",
   "execution_count": 14,
   "id": "cb2b3508-9484-4726-a795-0702c2e86926",
   "metadata": {},
   "outputs": [
    {
     "data": {
      "text/plain": [
       "{'persuade_corpus': 0,\n",
       " 'mistral7binstruct_v2': 1,\n",
       " 'darragh_claude_v6': 2,\n",
       " 'llama_70b_v1': 3,\n",
       " 'llama2_chat': 4,\n",
       " 'darragh_claude_v7': 5,\n",
       " 'falcon_180b_v1': 6,\n",
       " 'chat_gpt_moth': 7,\n",
       " 'radek_500': 8,\n",
       " 'mistral7binstruct_v1': 9,\n",
       " 'NousResearch/Llama-2-7b-chat-hf': 10,\n",
       " 'mistralai/Mistral-7B-Instruct-v0.1': 11,\n",
       " 'palm-text-bison1': 12,\n",
       " 'cohere-command': 13,\n",
       " 'radekgpt4': 14,\n",
       " 'train_essays': 15,\n",
       " 'kingki19_palm': 16}"
      ]
     },
     "execution_count": 14,
     "metadata": {},
     "output_type": "execute_result"
    }
   ],
   "source": [
    "mapping_source"
   ]
  },
  {
   "cell_type": "markdown",
   "id": "b1efd9e9-43b5-483a-a564-2f8524e391c0",
   "metadata": {},
   "source": [
    "The sources are highly skewed so me might need to balance this later"
   ]
  },
  {
   "cell_type": "code",
   "execution_count": 15,
   "id": "a2294b4f-4e43-4a42-a350-34cb0d85287a",
   "metadata": {},
   "outputs": [],
   "source": [
    "def word_count(text):\n",
    "    text_list = text.split()\n",
    "    return len(text_list)\n"
   ]
  },
  {
   "cell_type": "code",
   "execution_count": 16,
   "id": "b207accf-4a00-4d8a-811a-81a204940a3a",
   "metadata": {},
   "outputs": [
    {
     "name": "stderr",
     "output_type": "stream",
     "text": [
      "C:\\Users\\SAM\\AppData\\Local\\Temp\\ipykernel_16216\\1209599868.py:1: SettingWithCopyWarning: \n",
      "A value is trying to be set on a copy of a slice from a DataFrame.\n",
      "Try using .loc[row_indexer,col_indexer] = value instead\n",
      "\n",
      "See the caveats in the documentation: https://pandas.pydata.org/pandas-docs/stable/user_guide/indexing.html#returning-a-view-versus-a-copy\n",
      "  seven_text_data['word_count'] = seven_text_data['text'].apply(word_count)\n"
     ]
    },
    {
     "data": {
      "text/html": [
       "<div>\n",
       "<style scoped>\n",
       "    .dataframe tbody tr th:only-of-type {\n",
       "        vertical-align: middle;\n",
       "    }\n",
       "\n",
       "    .dataframe tbody tr th {\n",
       "        vertical-align: top;\n",
       "    }\n",
       "\n",
       "    .dataframe thead th {\n",
       "        text-align: right;\n",
       "    }\n",
       "</style>\n",
       "<table border=\"1\" class=\"dataframe\">\n",
       "  <thead>\n",
       "    <tr style=\"text-align: right;\">\n",
       "      <th></th>\n",
       "      <th>text</th>\n",
       "      <th>label</th>\n",
       "      <th>prompt_name</th>\n",
       "      <th>source</th>\n",
       "      <th>RDizzl3_seven</th>\n",
       "      <th>length</th>\n",
       "      <th>prompt_id</th>\n",
       "      <th>source_id</th>\n",
       "      <th>word_count</th>\n",
       "    </tr>\n",
       "  </thead>\n",
       "  <tbody>\n",
       "    <tr>\n",
       "      <th>1168</th>\n",
       "      <td>Cars have been around for awhile and they have...</td>\n",
       "      <td>0</td>\n",
       "      <td>Car-free cities</td>\n",
       "      <td>persuade_corpus</td>\n",
       "      <td>True</td>\n",
       "      <td>3114</td>\n",
       "      <td>0</td>\n",
       "      <td>0</td>\n",
       "      <td>537</td>\n",
       "    </tr>\n",
       "    <tr>\n",
       "      <th>1169</th>\n",
       "      <td>Have you ever thought what it would be like no...</td>\n",
       "      <td>0</td>\n",
       "      <td>Car-free cities</td>\n",
       "      <td>persuade_corpus</td>\n",
       "      <td>True</td>\n",
       "      <td>1132</td>\n",
       "      <td>0</td>\n",
       "      <td>0</td>\n",
       "      <td>212</td>\n",
       "    </tr>\n",
       "    <tr>\n",
       "      <th>1170</th>\n",
       "      <td>What you are about to read is going to give yo...</td>\n",
       "      <td>0</td>\n",
       "      <td>Car-free cities</td>\n",
       "      <td>persuade_corpus</td>\n",
       "      <td>True</td>\n",
       "      <td>3319</td>\n",
       "      <td>0</td>\n",
       "      <td>0</td>\n",
       "      <td>620</td>\n",
       "    </tr>\n",
       "    <tr>\n",
       "      <th>1171</th>\n",
       "      <td>cars have many flaws nd and in this day and ag...</td>\n",
       "      <td>0</td>\n",
       "      <td>Car-free cities</td>\n",
       "      <td>persuade_corpus</td>\n",
       "      <td>True</td>\n",
       "      <td>1030</td>\n",
       "      <td>0</td>\n",
       "      <td>0</td>\n",
       "      <td>190</td>\n",
       "    </tr>\n",
       "    <tr>\n",
       "      <th>1172</th>\n",
       "      <td>There are many advantages of limiting car usag...</td>\n",
       "      <td>0</td>\n",
       "      <td>Car-free cities</td>\n",
       "      <td>persuade_corpus</td>\n",
       "      <td>True</td>\n",
       "      <td>1860</td>\n",
       "      <td>0</td>\n",
       "      <td>0</td>\n",
       "      <td>314</td>\n",
       "    </tr>\n",
       "  </tbody>\n",
       "</table>\n",
       "</div>"
      ],
      "text/plain": [
       "                                                   text  label  \\\n",
       "1168  Cars have been around for awhile and they have...      0   \n",
       "1169  Have you ever thought what it would be like no...      0   \n",
       "1170  What you are about to read is going to give yo...      0   \n",
       "1171  cars have many flaws nd and in this day and ag...      0   \n",
       "1172  There are many advantages of limiting car usag...      0   \n",
       "\n",
       "          prompt_name           source  RDizzl3_seven  length  prompt_id  \\\n",
       "1168  Car-free cities  persuade_corpus           True    3114          0   \n",
       "1169  Car-free cities  persuade_corpus           True    1132          0   \n",
       "1170  Car-free cities  persuade_corpus           True    3319          0   \n",
       "1171  Car-free cities  persuade_corpus           True    1030          0   \n",
       "1172  Car-free cities  persuade_corpus           True    1860          0   \n",
       "\n",
       "      source_id  word_count  \n",
       "1168          0         537  \n",
       "1169          0         212  \n",
       "1170          0         620  \n",
       "1171          0         190  \n",
       "1172          0         314  "
      ]
     },
     "execution_count": 16,
     "metadata": {},
     "output_type": "execute_result"
    }
   ],
   "source": [
    "seven_text_data['word_count'] = seven_text_data['text'].apply(word_count)\n",
    "seven_text_data.head()"
   ]
  },
  {
   "cell_type": "code",
   "execution_count": 17,
   "id": "093e3da2-63df-40ba-80cc-c2d93c3b294a",
   "metadata": {},
   "outputs": [
    {
     "data": {
      "text/plain": [
       "<Axes: xlabel='word_count', ylabel='Count'>"
      ]
     },
     "execution_count": 17,
     "metadata": {},
     "output_type": "execute_result"
    },
    {
     "data": {
      "image/png": "[encoded data removed]",
      "text/plain": [
       "<Figure size 640x480 with 1 Axes>"
      ]
     },
     "metadata": {},
     "output_type": "display_data"
    }
   ],
   "source": [
    "sns.histplot(seven_text_data, x = 'word_count',kde=True)"
   ]
  },
  {
   "cell_type": "code",
   "execution_count": 18,
   "id": "454f441f-37f0-4240-a05c-03be3494af03",
   "metadata": {},
   "outputs": [
    {
     "name": "stderr",
     "output_type": "stream",
     "text": [
      "C:\\Users\\SAM\\AppData\\Local\\Temp\\ipykernel_16216\\2075753603.py:1: SettingWithCopyWarning: \n",
      "A value is trying to be set on a copy of a slice from a DataFrame.\n",
      "Try using .loc[row_indexer,col_indexer] = value instead\n",
      "\n",
      "See the caveats in the documentation: https://pandas.pydata.org/pandas-docs/stable/user_guide/indexing.html#returning-a-view-versus-a-copy\n",
      "  seven_text_data['mean_word_length'] = seven_text_data['text'].apply(\n"
     ]
    }
   ],
   "source": [
    "seven_text_data['mean_word_length'] = seven_text_data['text'].apply(\n",
    "    lambda x: np.mean([len(word) for word in x.split()])\n",
    ")"
   ]
  },
  {
   "cell_type": "code",
   "execution_count": 19,
   "id": "7398d155-8a12-4156-874e-a9086b1dc4ba",
   "metadata": {},
   "outputs": [
    {
     "data": {
      "text/plain": [
       "<Axes: xlabel='mean_word_length', ylabel='Count'>"
      ]
     },
     "execution_count": 19,
     "metadata": {},
     "output_type": "execute_result"
    },
    {
     "data": {
      "image/png": "[encoded data removed]",
      "text/plain": [
       "<Figure size 640x480 with 1 Axes>"
      ]
     },
     "metadata": {},
     "output_type": "display_data"
    }
   ],
   "source": [
    "sns.histplot(seven_text_data, x = 'mean_word_length',kde=True)"
   ]
  },
  {
   "cell_type": "code",
   "execution_count": 25,
   "id": "3b7fd0f3-d842-4137-be5c-ef46b7d1ab8e",
   "metadata": {},
   "outputs": [
    {
     "name": "stderr",
     "output_type": "stream",
     "text": [
      "C:\\Users\\SAM\\AppData\\Local\\Temp\\ipykernel_16216\\4082350521.py:1: SettingWithCopyWarning: \n",
      "A value is trying to be set on a copy of a slice from a DataFrame.\n",
      "Try using .loc[row_indexer,col_indexer] = value instead\n",
      "\n",
      "See the caveats in the documentation: https://pandas.pydata.org/pandas-docs/stable/user_guide/indexing.html#returning-a-view-versus-a-copy\n",
      "  seven_text_data['mean_sent_length'] = seven_text_data['text'].apply(\n"
     ]
    }
   ],
   "source": [
    "seven_text_data['mean_sent_length'] = seven_text_data['text'].apply(\n",
    "    lambda x: np.mean([len(sent) for sent in tokenize.sent_tokenize(x)])\n",
    ")\n"
   ]
  },
  {
   "cell_type": "code",
   "execution_count": null,
   "id": "d6b325c3-c344-467e-9c71-34c6691c803c",
   "metadata": {},
   "outputs": [],
   "source": []
  }
 ],
 "metadata": {
  "kernelspec": {
   "display_name": "Python 3 (ipykernel)",
   "language": "python",
   "name": "python3"
  },
  "language_info": {
   "codemirror_mode": {
    "name": "ipython",
    "version": 3
   },
   "file_extension": ".py",
   "mimetype": "text/x-python",
   "name": "python",
   "nbconvert_exporter": "python",
   "pygments_lexer": "ipython3",
   "version": "3.10.13"
  }
 },
 "nbformat": 4,
 "nbformat_minor": 5
}
